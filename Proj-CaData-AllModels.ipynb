{
 "cells": [
  {
   "cell_type": "markdown",
   "metadata": {},
   "source": [
    "# Model Building on State California Data"
   ]
  },
  {
   "cell_type": "code",
   "execution_count": 1,
   "metadata": {},
   "outputs": [],
   "source": [
    "# Import Libraries \n",
    "import numpy as np\n",
    "import pandas as pd\n",
    "import matplotlib.pyplot as plt\n",
    "import seaborn as sns\n",
    "from sklearn.metrics import f1_score, mean_squared_error\n",
    "from sklearn import linear_model, metrics \n",
    "from sklearn.metrics import r2_score \n",
    "from sklearn.metrics import confusion_matrix, accuracy_score"
   ]
  },
  {
   "cell_type": "code",
   "execution_count": 2,
   "metadata": {},
   "outputs": [],
   "source": [
    "# Reading dataset and storing it in a dataframe\n",
    "dataset = pd.read_csv('C:/Users/Akshay/USAccidentCA.csv')"
   ]
  },
  {
   "cell_type": "code",
   "execution_count": 3,
   "metadata": {},
   "outputs": [
    {
     "name": "stdout",
     "output_type": "stream",
     "text": [
      "<class 'pandas.core.frame.DataFrame'>\n",
      "RangeIndex: 676011 entries, 0 to 676010\n",
      "Data columns (total 28 columns):\n",
      " #   Column                 Non-Null Count   Dtype  \n",
      "---  ------                 --------------   -----  \n",
      " 0   Severity               676011 non-null  int64  \n",
      " 1   Start_Time             676011 non-null  int64  \n",
      " 2   Start_Lat              676011 non-null  float64\n",
      " 3   Start_Lng              676011 non-null  float64\n",
      " 4   Street                 676011 non-null  int64  \n",
      " 5   Side                   676011 non-null  int64  \n",
      " 6   City                   676011 non-null  int64  \n",
      " 7   County                 676011 non-null  int64  \n",
      " 8   State                  676011 non-null  int64  \n",
      " 9   Zipcode                676011 non-null  int64  \n",
      " 10  Airport_Code           676011 non-null  int64  \n",
      " 11  Temperature(F)         676011 non-null  float64\n",
      " 12  Humidity(%)            676011 non-null  float64\n",
      " 13  Pressure(in)           676011 non-null  float64\n",
      " 14  Wind_Direction         676011 non-null  int64  \n",
      " 15  Wind_Speed(mph)        676011 non-null  float64\n",
      " 16  Weather_Condition      676011 non-null  int64  \n",
      " 17  Amenity                676011 non-null  int64  \n",
      " 18  Crossing               676011 non-null  int64  \n",
      " 19  Junction               676011 non-null  int64  \n",
      " 20  Railway                676011 non-null  int64  \n",
      " 21  Station                676011 non-null  int64  \n",
      " 22  Stop                   676011 non-null  int64  \n",
      " 23  Traffic_Signal         676011 non-null  int64  \n",
      " 24  Sunrise_Sunset         676011 non-null  int64  \n",
      " 25  Civil_Twilight         676011 non-null  int64  \n",
      " 26  Nautical_Twilight      676011 non-null  int64  \n",
      " 27  Astronomical_Twilight  676011 non-null  int64  \n",
      "dtypes: float64(6), int64(22)\n",
      "memory usage: 144.4 MB\n"
     ]
    }
   ],
   "source": [
    "# To get the info of the training dataset\n",
    "dataset.info()"
   ]
  },
  {
   "cell_type": "code",
   "execution_count": 4,
   "metadata": {},
   "outputs": [
    {
     "data": {
      "text/plain": [
       "Index(['Severity', 'Start_Time', 'Start_Lat', 'Start_Lng', 'Street', 'Side',\n",
       "       'City', 'County', 'State', 'Zipcode', 'Airport_Code', 'Temperature(F)',\n",
       "       'Humidity(%)', 'Pressure(in)', 'Wind_Direction', 'Wind_Speed(mph)',\n",
       "       'Weather_Condition', 'Amenity', 'Crossing', 'Junction', 'Railway',\n",
       "       'Station', 'Stop', 'Traffic_Signal', 'Sunrise_Sunset', 'Civil_Twilight',\n",
       "       'Nautical_Twilight', 'Astronomical_Twilight'],\n",
       "      dtype='object')"
      ]
     },
     "execution_count": 4,
     "metadata": {},
     "output_type": "execute_result"
    }
   ],
   "source": [
    "dataset.columns"
   ]
  },
  {
   "cell_type": "code",
   "execution_count": 5,
   "metadata": {},
   "outputs": [
    {
     "data": {
      "text/plain": [
       "(676011, 28)"
      ]
     },
     "execution_count": 5,
     "metadata": {},
     "output_type": "execute_result"
    }
   ],
   "source": [
    "dataset.shape"
   ]
  },
  {
   "cell_type": "code",
   "execution_count": 6,
   "metadata": {},
   "outputs": [
    {
     "data": {
      "text/html": [
       "<div>\n",
       "<style scoped>\n",
       "    .dataframe tbody tr th:only-of-type {\n",
       "        vertical-align: middle;\n",
       "    }\n",
       "\n",
       "    .dataframe tbody tr th {\n",
       "        vertical-align: top;\n",
       "    }\n",
       "\n",
       "    .dataframe thead th {\n",
       "        text-align: right;\n",
       "    }\n",
       "</style>\n",
       "<table border=\"1\" class=\"dataframe\">\n",
       "  <thead>\n",
       "    <tr style=\"text-align: right;\">\n",
       "      <th></th>\n",
       "      <th>Severity</th>\n",
       "      <th>Start_Time</th>\n",
       "      <th>Start_Lat</th>\n",
       "      <th>Start_Lng</th>\n",
       "      <th>Street</th>\n",
       "      <th>Side</th>\n",
       "      <th>City</th>\n",
       "      <th>County</th>\n",
       "      <th>State</th>\n",
       "      <th>Zipcode</th>\n",
       "      <th>...</th>\n",
       "      <th>Crossing</th>\n",
       "      <th>Junction</th>\n",
       "      <th>Railway</th>\n",
       "      <th>Station</th>\n",
       "      <th>Stop</th>\n",
       "      <th>Traffic_Signal</th>\n",
       "      <th>Sunrise_Sunset</th>\n",
       "      <th>Civil_Twilight</th>\n",
       "      <th>Nautical_Twilight</th>\n",
       "      <th>Astronomical_Twilight</th>\n",
       "    </tr>\n",
       "  </thead>\n",
       "  <tbody>\n",
       "    <tr>\n",
       "      <th>count</th>\n",
       "      <td>676011.000000</td>\n",
       "      <td>6.760110e+05</td>\n",
       "      <td>676011.000000</td>\n",
       "      <td>676011.000000</td>\n",
       "      <td>676011.000000</td>\n",
       "      <td>676011.000000</td>\n",
       "      <td>676011.000000</td>\n",
       "      <td>676011.000000</td>\n",
       "      <td>676011.0</td>\n",
       "      <td>676011.000000</td>\n",
       "      <td>...</td>\n",
       "      <td>676011.000000</td>\n",
       "      <td>676011.000000</td>\n",
       "      <td>676011.000000</td>\n",
       "      <td>676011.000000</td>\n",
       "      <td>676011.000000</td>\n",
       "      <td>676011.000000</td>\n",
       "      <td>676011.000000</td>\n",
       "      <td>676011.000000</td>\n",
       "      <td>676011.000000</td>\n",
       "      <td>676011.000000</td>\n",
       "    </tr>\n",
       "    <tr>\n",
       "      <th>mean</th>\n",
       "      <td>2.269565</td>\n",
       "      <td>1.438990e+06</td>\n",
       "      <td>35.609115</td>\n",
       "      <td>-119.559028</td>\n",
       "      <td>80691.949909</td>\n",
       "      <td>1.894447</td>\n",
       "      <td>6343.605492</td>\n",
       "      <td>1024.805743</td>\n",
       "      <td>3.0</td>\n",
       "      <td>334531.888219</td>\n",
       "      <td>...</td>\n",
       "      <td>0.033029</td>\n",
       "      <td>0.136805</td>\n",
       "      <td>0.010748</td>\n",
       "      <td>0.019014</td>\n",
       "      <td>0.017933</td>\n",
       "      <td>0.081451</td>\n",
       "      <td>0.296614</td>\n",
       "      <td>0.255475</td>\n",
       "      <td>0.207040</td>\n",
       "      <td>0.167466</td>\n",
       "    </tr>\n",
       "    <tr>\n",
       "      <th>std</th>\n",
       "      <td>0.482747</td>\n",
       "      <td>8.995333e+05</td>\n",
       "      <td>2.056055</td>\n",
       "      <td>1.965402</td>\n",
       "      <td>37340.344767</td>\n",
       "      <td>0.307270</td>\n",
       "      <td>3088.320157</td>\n",
       "      <td>396.747248</td>\n",
       "      <td>0.0</td>\n",
       "      <td>11532.075607</td>\n",
       "      <td>...</td>\n",
       "      <td>0.178713</td>\n",
       "      <td>0.343642</td>\n",
       "      <td>0.103116</td>\n",
       "      <td>0.136576</td>\n",
       "      <td>0.132709</td>\n",
       "      <td>0.273527</td>\n",
       "      <td>0.456765</td>\n",
       "      <td>0.436128</td>\n",
       "      <td>0.405184</td>\n",
       "      <td>0.373392</td>\n",
       "    </tr>\n",
       "    <tr>\n",
       "      <th>min</th>\n",
       "      <td>1.000000</td>\n",
       "      <td>1.537000e+03</td>\n",
       "      <td>32.542587</td>\n",
       "      <td>-124.369232</td>\n",
       "      <td>1.000000</td>\n",
       "      <td>0.000000</td>\n",
       "      <td>14.000000</td>\n",
       "      <td>11.000000</td>\n",
       "      <td>3.0</td>\n",
       "      <td>315200.000000</td>\n",
       "      <td>...</td>\n",
       "      <td>0.000000</td>\n",
       "      <td>0.000000</td>\n",
       "      <td>0.000000</td>\n",
       "      <td>0.000000</td>\n",
       "      <td>0.000000</td>\n",
       "      <td>0.000000</td>\n",
       "      <td>0.000000</td>\n",
       "      <td>0.000000</td>\n",
       "      <td>0.000000</td>\n",
       "      <td>0.000000</td>\n",
       "    </tr>\n",
       "    <tr>\n",
       "      <th>25%</th>\n",
       "      <td>2.000000</td>\n",
       "      <td>5.297925e+05</td>\n",
       "      <td>33.955063</td>\n",
       "      <td>-121.736855</td>\n",
       "      <td>48664.000000</td>\n",
       "      <td>2.000000</td>\n",
       "      <td>3735.000000</td>\n",
       "      <td>901.000000</td>\n",
       "      <td>3.0</td>\n",
       "      <td>324913.000000</td>\n",
       "      <td>...</td>\n",
       "      <td>0.000000</td>\n",
       "      <td>0.000000</td>\n",
       "      <td>0.000000</td>\n",
       "      <td>0.000000</td>\n",
       "      <td>0.000000</td>\n",
       "      <td>0.000000</td>\n",
       "      <td>0.000000</td>\n",
       "      <td>0.000000</td>\n",
       "      <td>0.000000</td>\n",
       "      <td>0.000000</td>\n",
       "    </tr>\n",
       "    <tr>\n",
       "      <th>50%</th>\n",
       "      <td>2.000000</td>\n",
       "      <td>1.555114e+06</td>\n",
       "      <td>34.221260</td>\n",
       "      <td>-118.449440</td>\n",
       "      <td>84668.000000</td>\n",
       "      <td>2.000000</td>\n",
       "      <td>6716.000000</td>\n",
       "      <td>1135.000000</td>\n",
       "      <td>3.0</td>\n",
       "      <td>332344.000000</td>\n",
       "      <td>...</td>\n",
       "      <td>0.000000</td>\n",
       "      <td>0.000000</td>\n",
       "      <td>0.000000</td>\n",
       "      <td>0.000000</td>\n",
       "      <td>0.000000</td>\n",
       "      <td>0.000000</td>\n",
       "      <td>0.000000</td>\n",
       "      <td>0.000000</td>\n",
       "      <td>0.000000</td>\n",
       "      <td>0.000000</td>\n",
       "    </tr>\n",
       "    <tr>\n",
       "      <th>75%</th>\n",
       "      <td>3.000000</td>\n",
       "      <td>2.277964e+06</td>\n",
       "      <td>37.719055</td>\n",
       "      <td>-117.928963</td>\n",
       "      <td>96305.500000</td>\n",
       "      <td>2.000000</td>\n",
       "      <td>9040.000000</td>\n",
       "      <td>1349.000000</td>\n",
       "      <td>3.0</td>\n",
       "      <td>343584.000000</td>\n",
       "      <td>...</td>\n",
       "      <td>0.000000</td>\n",
       "      <td>0.000000</td>\n",
       "      <td>0.000000</td>\n",
       "      <td>0.000000</td>\n",
       "      <td>0.000000</td>\n",
       "      <td>0.000000</td>\n",
       "      <td>1.000000</td>\n",
       "      <td>1.000000</td>\n",
       "      <td>0.000000</td>\n",
       "      <td>0.000000</td>\n",
       "    </tr>\n",
       "    <tr>\n",
       "      <th>max</th>\n",
       "      <td>4.000000</td>\n",
       "      <td>2.771755e+06</td>\n",
       "      <td>42.005420</td>\n",
       "      <td>-114.300598</td>\n",
       "      <td>163440.000000</td>\n",
       "      <td>2.000000</td>\n",
       "      <td>11477.000000</td>\n",
       "      <td>1702.000000</td>\n",
       "      <td>3.0</td>\n",
       "      <td>359052.000000</td>\n",
       "      <td>...</td>\n",
       "      <td>1.000000</td>\n",
       "      <td>1.000000</td>\n",
       "      <td>1.000000</td>\n",
       "      <td>1.000000</td>\n",
       "      <td>1.000000</td>\n",
       "      <td>1.000000</td>\n",
       "      <td>1.000000</td>\n",
       "      <td>1.000000</td>\n",
       "      <td>1.000000</td>\n",
       "      <td>1.000000</td>\n",
       "    </tr>\n",
       "  </tbody>\n",
       "</table>\n",
       "<p>8 rows × 28 columns</p>\n",
       "</div>"
      ],
      "text/plain": [
       "            Severity    Start_Time      Start_Lat      Start_Lng  \\\n",
       "count  676011.000000  6.760110e+05  676011.000000  676011.000000   \n",
       "mean        2.269565  1.438990e+06      35.609115    -119.559028   \n",
       "std         0.482747  8.995333e+05       2.056055       1.965402   \n",
       "min         1.000000  1.537000e+03      32.542587    -124.369232   \n",
       "25%         2.000000  5.297925e+05      33.955063    -121.736855   \n",
       "50%         2.000000  1.555114e+06      34.221260    -118.449440   \n",
       "75%         3.000000  2.277964e+06      37.719055    -117.928963   \n",
       "max         4.000000  2.771755e+06      42.005420    -114.300598   \n",
       "\n",
       "              Street           Side           City         County     State  \\\n",
       "count  676011.000000  676011.000000  676011.000000  676011.000000  676011.0   \n",
       "mean    80691.949909       1.894447    6343.605492    1024.805743       3.0   \n",
       "std     37340.344767       0.307270    3088.320157     396.747248       0.0   \n",
       "min         1.000000       0.000000      14.000000      11.000000       3.0   \n",
       "25%     48664.000000       2.000000    3735.000000     901.000000       3.0   \n",
       "50%     84668.000000       2.000000    6716.000000    1135.000000       3.0   \n",
       "75%     96305.500000       2.000000    9040.000000    1349.000000       3.0   \n",
       "max    163440.000000       2.000000   11477.000000    1702.000000       3.0   \n",
       "\n",
       "             Zipcode  ...       Crossing       Junction        Railway  \\\n",
       "count  676011.000000  ...  676011.000000  676011.000000  676011.000000   \n",
       "mean   334531.888219  ...       0.033029       0.136805       0.010748   \n",
       "std     11532.075607  ...       0.178713       0.343642       0.103116   \n",
       "min    315200.000000  ...       0.000000       0.000000       0.000000   \n",
       "25%    324913.000000  ...       0.000000       0.000000       0.000000   \n",
       "50%    332344.000000  ...       0.000000       0.000000       0.000000   \n",
       "75%    343584.000000  ...       0.000000       0.000000       0.000000   \n",
       "max    359052.000000  ...       1.000000       1.000000       1.000000   \n",
       "\n",
       "             Station           Stop  Traffic_Signal  Sunrise_Sunset  \\\n",
       "count  676011.000000  676011.000000   676011.000000   676011.000000   \n",
       "mean        0.019014       0.017933        0.081451        0.296614   \n",
       "std         0.136576       0.132709        0.273527        0.456765   \n",
       "min         0.000000       0.000000        0.000000        0.000000   \n",
       "25%         0.000000       0.000000        0.000000        0.000000   \n",
       "50%         0.000000       0.000000        0.000000        0.000000   \n",
       "75%         0.000000       0.000000        0.000000        1.000000   \n",
       "max         1.000000       1.000000        1.000000        1.000000   \n",
       "\n",
       "       Civil_Twilight  Nautical_Twilight  Astronomical_Twilight  \n",
       "count   676011.000000      676011.000000          676011.000000  \n",
       "mean         0.255475           0.207040               0.167466  \n",
       "std          0.436128           0.405184               0.373392  \n",
       "min          0.000000           0.000000               0.000000  \n",
       "25%          0.000000           0.000000               0.000000  \n",
       "50%          0.000000           0.000000               0.000000  \n",
       "75%          1.000000           0.000000               0.000000  \n",
       "max          1.000000           1.000000               1.000000  \n",
       "\n",
       "[8 rows x 28 columns]"
      ]
     },
     "execution_count": 6,
     "metadata": {},
     "output_type": "execute_result"
    }
   ],
   "source": [
    "dataset.describe()"
   ]
  },
  {
   "cell_type": "code",
   "execution_count": 7,
   "metadata": {},
   "outputs": [
    {
     "name": "stdout",
     "output_type": "stream",
     "text": [
      "Unique count of categorical features:\n",
      "State 1\n"
     ]
    }
   ],
   "source": [
    "cols =['State']\n",
    "print(\"Unique count of categorical features:\")\n",
    "for i in cols:\n",
    "  print(i,dataset[i].unique().size)"
   ]
  },
  {
   "cell_type": "code",
   "execution_count": 8,
   "metadata": {},
   "outputs": [],
   "source": [
    "# Droppig Categorical Features\n",
    "dataset = dataset.drop(['State'], axis=1)"
   ]
  },
  {
   "cell_type": "code",
   "execution_count": 9,
   "metadata": {},
   "outputs": [
    {
     "data": {
      "text/plain": [
       "Index(['Severity', 'Start_Time', 'Start_Lat', 'Start_Lng', 'Street', 'Side',\n",
       "       'City', 'County', 'Zipcode', 'Airport_Code', 'Temperature(F)',\n",
       "       'Humidity(%)', 'Pressure(in)', 'Wind_Direction', 'Wind_Speed(mph)',\n",
       "       'Weather_Condition', 'Amenity', 'Crossing', 'Junction', 'Railway',\n",
       "       'Station', 'Stop', 'Traffic_Signal', 'Sunrise_Sunset', 'Civil_Twilight',\n",
       "       'Nautical_Twilight', 'Astronomical_Twilight'],\n",
       "      dtype='object')"
      ]
     },
     "execution_count": 9,
     "metadata": {},
     "output_type": "execute_result"
    }
   ],
   "source": [
    "dataset.columns"
   ]
  },
  {
   "cell_type": "code",
   "execution_count": 10,
   "metadata": {},
   "outputs": [],
   "source": [
    "# Initializing the Matrix of Features Independent Variable (X) and the Dependent Variable (y)\n",
    "X = dataset.drop(['Severity'], axis=1)\n",
    "y = dataset['Severity']"
   ]
  },
  {
   "cell_type": "code",
   "execution_count": 11,
   "metadata": {},
   "outputs": [
    {
     "data": {
      "text/html": [
       "<div>\n",
       "<style scoped>\n",
       "    .dataframe tbody tr th:only-of-type {\n",
       "        vertical-align: middle;\n",
       "    }\n",
       "\n",
       "    .dataframe tbody tr th {\n",
       "        vertical-align: top;\n",
       "    }\n",
       "\n",
       "    .dataframe thead th {\n",
       "        text-align: right;\n",
       "    }\n",
       "</style>\n",
       "<table border=\"1\" class=\"dataframe\">\n",
       "  <thead>\n",
       "    <tr style=\"text-align: right;\">\n",
       "      <th></th>\n",
       "      <th>Start_Time</th>\n",
       "      <th>Start_Lat</th>\n",
       "      <th>Start_Lng</th>\n",
       "      <th>Street</th>\n",
       "      <th>Side</th>\n",
       "      <th>City</th>\n",
       "      <th>County</th>\n",
       "      <th>Zipcode</th>\n",
       "      <th>Airport_Code</th>\n",
       "      <th>Temperature(F)</th>\n",
       "      <th>...</th>\n",
       "      <th>Crossing</th>\n",
       "      <th>Junction</th>\n",
       "      <th>Railway</th>\n",
       "      <th>Station</th>\n",
       "      <th>Stop</th>\n",
       "      <th>Traffic_Signal</th>\n",
       "      <th>Sunrise_Sunset</th>\n",
       "      <th>Civil_Twilight</th>\n",
       "      <th>Nautical_Twilight</th>\n",
       "      <th>Astronomical_Twilight</th>\n",
       "    </tr>\n",
       "  </thead>\n",
       "  <tbody>\n",
       "    <tr>\n",
       "      <th>0</th>\n",
       "      <td>42057</td>\n",
       "      <td>38.085300</td>\n",
       "      <td>-122.233017</td>\n",
       "      <td>95722</td>\n",
       "      <td>2</td>\n",
       "      <td>10524</td>\n",
       "      <td>1422</td>\n",
       "      <td>343380</td>\n",
       "      <td>161</td>\n",
       "      <td>75.0</td>\n",
       "      <td>...</td>\n",
       "      <td>0</td>\n",
       "      <td>0</td>\n",
       "      <td>0</td>\n",
       "      <td>0</td>\n",
       "      <td>0</td>\n",
       "      <td>0</td>\n",
       "      <td>0</td>\n",
       "      <td>0</td>\n",
       "      <td>0</td>\n",
       "      <td>0</td>\n",
       "    </tr>\n",
       "    <tr>\n",
       "      <th>1</th>\n",
       "      <td>42046</td>\n",
       "      <td>37.631813</td>\n",
       "      <td>-122.084167</td>\n",
       "      <td>85156</td>\n",
       "      <td>2</td>\n",
       "      <td>4402</td>\n",
       "      <td>11</td>\n",
       "      <td>341769</td>\n",
       "      <td>927</td>\n",
       "      <td>75.0</td>\n",
       "      <td>...</td>\n",
       "      <td>0</td>\n",
       "      <td>0</td>\n",
       "      <td>0</td>\n",
       "      <td>0</td>\n",
       "      <td>0</td>\n",
       "      <td>0</td>\n",
       "      <td>0</td>\n",
       "      <td>0</td>\n",
       "      <td>0</td>\n",
       "      <td>0</td>\n",
       "    </tr>\n",
       "    <tr>\n",
       "      <th>2</th>\n",
       "      <td>42087</td>\n",
       "      <td>37.896564</td>\n",
       "      <td>-122.070717</td>\n",
       "      <td>85044</td>\n",
       "      <td>2</td>\n",
       "      <td>10742</td>\n",
       "      <td>352</td>\n",
       "      <td>343420</td>\n",
       "      <td>359</td>\n",
       "      <td>82.9</td>\n",
       "      <td>...</td>\n",
       "      <td>0</td>\n",
       "      <td>0</td>\n",
       "      <td>0</td>\n",
       "      <td>0</td>\n",
       "      <td>0</td>\n",
       "      <td>0</td>\n",
       "      <td>0</td>\n",
       "      <td>0</td>\n",
       "      <td>0</td>\n",
       "      <td>0</td>\n",
       "    </tr>\n",
       "    <tr>\n",
       "      <th>3</th>\n",
       "      <td>42071</td>\n",
       "      <td>37.334255</td>\n",
       "      <td>-122.032471</td>\n",
       "      <td>104188</td>\n",
       "      <td>2</td>\n",
       "      <td>2376</td>\n",
       "      <td>1365</td>\n",
       "      <td>345188</td>\n",
       "      <td>1356</td>\n",
       "      <td>75.9</td>\n",
       "      <td>...</td>\n",
       "      <td>0</td>\n",
       "      <td>0</td>\n",
       "      <td>0</td>\n",
       "      <td>0</td>\n",
       "      <td>0</td>\n",
       "      <td>0</td>\n",
       "      <td>0</td>\n",
       "      <td>0</td>\n",
       "      <td>0</td>\n",
       "      <td>0</td>\n",
       "    </tr>\n",
       "    <tr>\n",
       "      <th>4</th>\n",
       "      <td>42033</td>\n",
       "      <td>37.250729</td>\n",
       "      <td>-121.910713</td>\n",
       "      <td>112450</td>\n",
       "      <td>2</td>\n",
       "      <td>9053</td>\n",
       "      <td>1365</td>\n",
       "      <td>346495</td>\n",
       "      <td>1585</td>\n",
       "      <td>75.2</td>\n",
       "      <td>...</td>\n",
       "      <td>0</td>\n",
       "      <td>0</td>\n",
       "      <td>0</td>\n",
       "      <td>0</td>\n",
       "      <td>0</td>\n",
       "      <td>0</td>\n",
       "      <td>0</td>\n",
       "      <td>0</td>\n",
       "      <td>0</td>\n",
       "      <td>0</td>\n",
       "    </tr>\n",
       "  </tbody>\n",
       "</table>\n",
       "<p>5 rows × 26 columns</p>\n",
       "</div>"
      ],
      "text/plain": [
       "   Start_Time  Start_Lat   Start_Lng  Street  Side   City  County  Zipcode  \\\n",
       "0       42057  38.085300 -122.233017   95722     2  10524    1422   343380   \n",
       "1       42046  37.631813 -122.084167   85156     2   4402      11   341769   \n",
       "2       42087  37.896564 -122.070717   85044     2  10742     352   343420   \n",
       "3       42071  37.334255 -122.032471  104188     2   2376    1365   345188   \n",
       "4       42033  37.250729 -121.910713  112450     2   9053    1365   346495   \n",
       "\n",
       "   Airport_Code  Temperature(F)  ...  Crossing  Junction  Railway  Station  \\\n",
       "0           161            75.0  ...         0         0        0        0   \n",
       "1           927            75.0  ...         0         0        0        0   \n",
       "2           359            82.9  ...         0         0        0        0   \n",
       "3          1356            75.9  ...         0         0        0        0   \n",
       "4          1585            75.2  ...         0         0        0        0   \n",
       "\n",
       "   Stop  Traffic_Signal  Sunrise_Sunset  Civil_Twilight  Nautical_Twilight  \\\n",
       "0     0               0               0               0                  0   \n",
       "1     0               0               0               0                  0   \n",
       "2     0               0               0               0                  0   \n",
       "3     0               0               0               0                  0   \n",
       "4     0               0               0               0                  0   \n",
       "\n",
       "   Astronomical_Twilight  \n",
       "0                      0  \n",
       "1                      0  \n",
       "2                      0  \n",
       "3                      0  \n",
       "4                      0  \n",
       "\n",
       "[5 rows x 26 columns]"
      ]
     },
     "execution_count": 11,
     "metadata": {},
     "output_type": "execute_result"
    }
   ],
   "source": [
    "X.head()"
   ]
  },
  {
   "cell_type": "code",
   "execution_count": 12,
   "metadata": {},
   "outputs": [
    {
     "data": {
      "text/plain": [
       "0    3\n",
       "1    3\n",
       "2    2\n",
       "3    3\n",
       "4    2\n",
       "Name: Severity, dtype: int64"
      ]
     },
     "execution_count": 12,
     "metadata": {},
     "output_type": "execute_result"
    }
   ],
   "source": [
    "y.head()"
   ]
  },
  {
   "cell_type": "code",
   "execution_count": 13,
   "metadata": {},
   "outputs": [],
   "source": [
    "# Spliting Data into Training and Test set\n",
    "from sklearn.model_selection import train_test_split\n",
    "X_train, X_test, y_train, y_test = train_test_split(X, y, test_size = 0.2, random_state = 1)"
   ]
  },
  {
   "cell_type": "code",
   "execution_count": 14,
   "metadata": {},
   "outputs": [],
   "source": [
    "# Feature Scaling - Standardisation\n",
    "from sklearn.preprocessing import StandardScaler\n",
    "sc = StandardScaler()\n",
    "\n",
    "X_train= sc.fit_transform(X_train)\n",
    "X_test = sc.transform(X_test)"
   ]
  },
  {
   "cell_type": "code",
   "execution_count": 15,
   "metadata": {},
   "outputs": [
    {
     "name": "stdout",
     "output_type": "stream",
     "text": [
      "[[-1.54850703 -0.82381699  0.6484578  ... -0.58540156 -0.51072425\n",
      "  -0.44811631]\n",
      " [ 1.13391914  1.15340823 -0.39368774 ... -0.58540156 -0.51072425\n",
      "  -0.44811631]\n",
      " [ 0.77370998  0.83158747 -1.20175365 ... -0.58540156 -0.51072425\n",
      "  -0.44811631]\n",
      " ...\n",
      " [ 1.19449524 -0.70702322  0.46052159 ... -0.58540156 -0.51072425\n",
      "  -0.44811631]\n",
      " [ 1.28881637 -0.73857938  0.79515829 ...  1.70822914  1.95800377\n",
      "   2.23156351]\n",
      " [-0.9921182   1.41931409 -0.92241334 ... -0.58540156 -0.51072425\n",
      "  -0.44811631]]\n"
     ]
    }
   ],
   "source": [
    "print(X_train)"
   ]
  },
  {
   "cell_type": "code",
   "execution_count": 16,
   "metadata": {},
   "outputs": [
    {
     "name": "stdout",
     "output_type": "stream",
     "text": [
      "[[ 0.97536767 -0.59794826  0.54109221 ...  1.70822914  1.95800377\n",
      "   2.23156351]\n",
      " [ 0.93816513 -0.76368082  0.56917694 ... -0.58540156 -0.51072425\n",
      "  -0.44811631]\n",
      " [-1.53523375 -1.43721654  1.26618198 ... -0.58540156 -0.51072425\n",
      "  -0.44811631]\n",
      " ...\n",
      " [-1.12997788 -0.7239939   0.8607514  ... -0.58540156 -0.51072425\n",
      "  -0.44811631]\n",
      " [ 0.82066049  1.4371651  -1.06284718 ... -0.58540156 -0.51072425\n",
      "  -0.44811631]\n",
      " [-0.7998195  -0.70657089  0.59750589 ...  1.70822914  1.95800377\n",
      "   2.23156351]]\n"
     ]
    }
   ],
   "source": [
    "print(X_test)"
   ]
  },
  {
   "cell_type": "markdown",
   "metadata": {},
   "source": [
    "# Logistic Regression Classifier"
   ]
  },
  {
   "cell_type": "code",
   "execution_count": 17,
   "metadata": {},
   "outputs": [
    {
     "data": {
      "text/plain": [
       "LogisticRegression(max_iter=500, random_state=1)"
      ]
     },
     "execution_count": 17,
     "metadata": {},
     "output_type": "execute_result"
    }
   ],
   "source": [
    "# Training the Logistic Regression model on the Training set\n",
    "from sklearn.linear_model import LogisticRegression\n",
    "classifier_LR = LogisticRegression(random_state = 1, max_iter=500)\n",
    "classifier_LR.fit(X_train, y_train)"
   ]
  },
  {
   "cell_type": "code",
   "execution_count": 18,
   "metadata": {},
   "outputs": [
    {
     "name": "stdout",
     "output_type": "stream",
     "text": [
      "[2 2 2 ... 2 2 2]\n"
     ]
    }
   ],
   "source": [
    "# Predicting the Test set results\n",
    "y_pred_LR = classifier_LR.predict(X_test)\n",
    "print(y_pred_LR)"
   ]
  },
  {
   "cell_type": "code",
   "execution_count": 19,
   "metadata": {},
   "outputs": [],
   "source": [
    "# Initialize an empty list for storing the Accuracy for each algorithm\n",
    "accuracy_list = []\n",
    "# Initialize an empty list for storing the Mean Squared Error for each algorithm\n",
    "MeanSquaredError_list = []"
   ]
  },
  {
   "cell_type": "code",
   "execution_count": 20,
   "metadata": {},
   "outputs": [
    {
     "name": "stdout",
     "output_type": "stream",
     "text": [
      "Confusion Matrix : \n",
      "[[    0  1159     4     0]\n",
      " [    3 91614  6492     0]\n",
      " [    0 26803  7827     0]\n",
      " [    0  1220    81     0]]\n",
      "\n",
      "Logistic Regression Classifier- Accuracy Score :  0.7354940348956754\n"
     ]
    }
   ],
   "source": [
    "# Making the Confusion Matrix\n",
    "cm_LR = confusion_matrix(y_test, y_pred_LR)\n",
    "print('Confusion Matrix : ')\n",
    "print(cm_LR)\n",
    "print()\n",
    "# Get R2 measure (indicator of accuracy 1 is perfect, 0 is horrible)\n",
    "acc_LR = accuracy_score(y_test, y_pred_LR)\n",
    "print('Logistic Regression Classifier- Accuracy Score : ', acc_LR)\n",
    "# Append to the accuracy list\n",
    "accuracy_list.append(acc_LR)"
   ]
  },
  {
   "cell_type": "code",
   "execution_count": 21,
   "metadata": {},
   "outputs": [
    {
     "name": "stdout",
     "output_type": "stream",
     "text": [
      "[-5.88168969  3.88339003  2.58401874 -0.58571908]\n",
      "[[ 3.49728137e+00 -3.92999266e-01 -1.16837850e+00  5.23075239e-02\n",
      "  -4.28476221e-02  1.93521032e-02  3.29892668e-02  4.48641289e-01\n",
      "  -8.53689378e-02 -6.53098566e-02  7.73902984e-03  1.01951989e-01\n",
      "   7.88021413e-02 -3.20672650e-02  1.04928798e-02 -4.49161606e-02\n",
      "   1.76851759e-02  5.38935573e-02  1.32987325e-02 -3.98424734e-02\n",
      "   7.33057074e-02  1.57965157e-01 -2.68448185e-02 -5.78556166e-02\n",
      "   9.19450456e-02 -2.20159335e-02]\n",
      " [-9.64225427e-01  1.88203033e-02  2.53011242e-01  8.96006133e-02\n",
      "  -1.35946196e-01 -3.44273040e-02  1.38018199e-01 -2.20761132e-02\n",
      "  -5.54283839e-02 -3.31575289e-02 -7.08467978e-02 -1.04577550e-01\n",
      "  -7.42079447e-02 -2.23122496e-02 -9.03755175e-03  6.46366509e-03\n",
      "   1.82017683e-02 -4.96055066e-02 -1.53877404e-02  3.34956516e-02\n",
      "   4.99954111e-02  5.63646796e-02 -8.99385744e-03  4.48184022e-02\n",
      "  -6.26103305e-02 -9.20112276e-02]\n",
      " [-1.48315083e+00  2.66243091e-01  5.21569072e-01  2.41719142e-01\n",
      "   3.93800652e-01  3.60915482e-02 -1.73418061e-01 -3.28441872e-01\n",
      "   7.62040271e-02  3.22047655e-02  5.52467925e-02  7.88030667e-02\n",
      "   4.17104534e-03  1.69965312e-02  2.25861669e-02  3.13556339e-03\n",
      "  -4.94558419e-02 -8.37162745e-02  2.83351356e-02 -6.03963149e-03\n",
      "  -1.70610374e-01 -2.42078207e-01  1.26523694e-02  3.39560107e-02\n",
      "  -2.26162236e-02 -7.15765603e-02]\n",
      " [-1.04990511e+00  1.07935872e-01  3.93798185e-01 -3.83627279e-01\n",
      "  -2.15006833e-01 -2.10163475e-02  2.41059448e-03 -9.81233039e-02\n",
      "   6.45932946e-02  6.62626200e-02  7.86097548e-03 -7.61775054e-02\n",
      "  -8.76524185e-03  3.73829835e-02 -2.40414950e-02  3.53169321e-02\n",
      "   1.35688977e-02  7.94282238e-02 -2.62461277e-02  1.23864533e-02\n",
      "   4.73092559e-02  2.77483706e-02  2.31863065e-02 -2.09187963e-02\n",
      "  -6.71849158e-03  1.85603721e-01]]\n"
     ]
    }
   ],
   "source": [
    "print(classifier_LR.intercept_)\n",
    "print(classifier_LR.coef_)"
   ]
  },
  {
   "cell_type": "code",
   "execution_count": 22,
   "metadata": {},
   "outputs": [
    {
     "data": {
      "text/plain": [
       "numpy.ndarray"
      ]
     },
     "execution_count": 22,
     "metadata": {},
     "output_type": "execute_result"
    }
   ],
   "source": [
    "type(y_pred_LR)"
   ]
  },
  {
   "cell_type": "code",
   "execution_count": 23,
   "metadata": {},
   "outputs": [
    {
     "data": {
      "text/plain": [
       "[<matplotlib.lines.Line2D at 0x2b5cd43fa00>]"
      ]
     },
     "execution_count": 23,
     "metadata": {},
     "output_type": "execute_result"
    },
    {
     "data": {
      "image/png": "[encoded data removed]",
      "text/plain": [
       "<Figure size 432x288 with 1 Axes>"
      ]
     },
     "metadata": {
      "needs_background": "light"
     },
     "output_type": "display_data"
    }
   ],
   "source": [
    "# Plot 100 Predicted Values\n",
    "import matplotlib.pyplot as plt\n",
    "plt.plot(y_pred_LR[:100])"
   ]
  },
  {
   "cell_type": "code",
   "execution_count": 24,
   "metadata": {},
   "outputs": [
    {
     "data": {
      "text/plain": [
       "pandas.core.series.Series"
      ]
     },
     "execution_count": 24,
     "metadata": {},
     "output_type": "execute_result"
    }
   ],
   "source": [
    "type(y_test)"
   ]
  },
  {
   "cell_type": "code",
   "execution_count": 25,
   "metadata": {},
   "outputs": [
    {
     "data": {
      "text/plain": [
       "numpy.ndarray"
      ]
     },
     "execution_count": 25,
     "metadata": {},
     "output_type": "execute_result"
    }
   ],
   "source": [
    "y_test2 = y_test.values\n",
    "type(y_test2)"
   ]
  },
  {
   "cell_type": "code",
   "execution_count": 26,
   "metadata": {},
   "outputs": [
    {
     "data": {
      "text/plain": [
       "array([2, 2, 2, 2, 2, 3, 3, 2, 3, 3, 3, 2, 2, 3, 2, 3, 3, 2, 2, 2, 2, 3,\n",
       "       2, 2, 3, 2, 3, 2, 3, 2, 2, 2, 3, 2, 2, 3, 1, 2, 3, 2, 2, 2, 3, 2,\n",
       "       2, 2, 2, 2, 2, 2, 2, 2, 3, 3, 2, 3, 2, 3, 2, 3, 3, 3, 2, 3, 2, 2,\n",
       "       2, 2, 3, 2, 2, 2, 2, 2, 2, 3, 2, 2, 2, 3, 2, 2, 2, 2, 2, 2, 2, 3,\n",
       "       3, 3, 2, 2, 2, 2, 3, 2, 2, 2, 3, 2], dtype=int64)"
      ]
     },
     "execution_count": 26,
     "metadata": {},
     "output_type": "execute_result"
    }
   ],
   "source": [
    "y_test2[:100]"
   ]
  },
  {
   "cell_type": "code",
   "execution_count": 27,
   "metadata": {},
   "outputs": [
    {
     "data": {
      "text/plain": [
       "[<matplotlib.lines.Line2D at 0x2b5cd4c5820>]"
      ]
     },
     "execution_count": 27,
     "metadata": {},
     "output_type": "execute_result"
    },
    {
     "data": {
      "image/png": "[encoded data removed]",
      "text/plain": [
       "<Figure size 432x288 with 1 Axes>"
      ]
     },
     "metadata": {
      "needs_background": "light"
     },
     "output_type": "display_data"
    }
   ],
   "source": [
    "# Plot 100 Test Values\n",
    "import matplotlib.pyplot as plt\n",
    "plt.plot(y_test2[:100])"
   ]
  },
  {
   "cell_type": "code",
   "execution_count": 28,
   "metadata": {},
   "outputs": [
    {
     "data": {
      "text/plain": [
       "[<matplotlib.lines.Line2D at 0x2b5cd523eb0>]"
      ]
     },
     "execution_count": 28,
     "metadata": {},
     "output_type": "execute_result"
    },
    {
     "data": {
      "image/png": "[encoded data removed]",
      "text/plain": [
       "<Figure size 432x288 with 1 Axes>"
      ]
     },
     "metadata": {
      "needs_background": "light"
     },
     "output_type": "display_data"
    }
   ],
   "source": [
    "import matplotlib.pyplot as plt\n",
    "plt.plot(y_pred_LR[:100])\n",
    "plt.plot(y_test2[:100])"
   ]
  },
  {
   "cell_type": "code",
   "execution_count": 29,
   "metadata": {},
   "outputs": [
    {
     "name": "stdout",
     "output_type": "stream",
     "text": [
      "Logistic Regression Classifier- Mean Squared Error: 0.29166512577383635\n"
     ]
    }
   ],
   "source": [
    "# Mean Squared Error\n",
    "mse_LR = metrics.mean_squared_error(y_test, y_pred_LR)\n",
    "print('Logistic Regression Classifier- Mean Squared Error:', mse_LR)\n",
    "# Append to the MeanSquaredError list\n",
    "MeanSquaredError_list.append(mse_LR)"
   ]
  },
  {
   "cell_type": "markdown",
   "metadata": {},
   "source": [
    "# K-Nearest Neighbors Classifier"
   ]
  },
  {
   "cell_type": "code",
   "execution_count": 30,
   "metadata": {},
   "outputs": [
    {
     "data": {
      "text/plain": [
       "KNeighborsClassifier()"
      ]
     },
     "execution_count": 30,
     "metadata": {},
     "output_type": "execute_result"
    }
   ],
   "source": [
    "# Training the K-Nearest Neighbors model on the Training set\n",
    "from sklearn.neighbors import KNeighborsClassifier\n",
    "classifier_KNN = KNeighborsClassifier(n_neighbors = 5, metric = 'minkowski', p = 2)\n",
    "classifier_KNN.fit(X_train, y_train)"
   ]
  },
  {
   "cell_type": "code",
   "execution_count": 31,
   "metadata": {},
   "outputs": [
    {
     "name": "stdout",
     "output_type": "stream",
     "text": [
      "[2 2 3 ... 3 3 2]\n"
     ]
    }
   ],
   "source": [
    "# Predicting the Test set results\n",
    "y_pred_KNN = classifier_KNN.predict(X_test)\n",
    "print(y_pred_KNN)"
   ]
  },
  {
   "cell_type": "code",
   "execution_count": 32,
   "metadata": {},
   "outputs": [
    {
     "name": "stdout",
     "output_type": "stream",
     "text": [
      "Confusion Matrix : \n",
      "[[  366   764    27     6]\n",
      " [  478 86376 11167    88]\n",
      " [   98 15485 19020    27]\n",
      " [   11  1026   204    60]]\n",
      "\n",
      "K-Nearest Neighbors Classifier- Accuracy Score :  0.7826897332159789\n"
     ]
    }
   ],
   "source": [
    "# Making the Confusion Matrix\n",
    "cm_KNN = confusion_matrix(y_test, y_pred_KNN)\n",
    "print('Confusion Matrix : ')\n",
    "print(cm_KNN)\n",
    "print()\n",
    "# Get R2 measure (indicator of accuracy 1 is perfect, 0 is horrible)\n",
    "acc_KNN = accuracy_score(y_test, y_pred_KNN)\n",
    "print('K-Nearest Neighbors Classifier- Accuracy Score : ', acc_KNN)\n",
    "# Append to the accuracy list\n",
    "accuracy_list.append(acc_KNN)"
   ]
  },
  {
   "cell_type": "code",
   "execution_count": 33,
   "metadata": {},
   "outputs": [
    {
     "name": "stdout",
     "output_type": "stream",
     "text": [
      "K-Nearest Neighbors Classifier- Mean Squared Error: 0.24580815514448645\n"
     ]
    }
   ],
   "source": [
    "# Mean Squared Error\n",
    "mse_KNN = metrics.mean_squared_error(y_test, y_pred_KNN)\n",
    "print('K-Nearest Neighbors Classifier- Mean Squared Error:', mse_KNN)\n",
    "# Append to the MeanSquaredError list\n",
    "MeanSquaredError_list.append(mse_KNN)"
   ]
  },
  {
   "cell_type": "code",
   "execution_count": null,
   "metadata": {},
   "outputs": [],
   "source": []
  },
  {
   "cell_type": "markdown",
   "metadata": {},
   "source": [
    "# Support Vector Machine Classification"
   ]
  },
  {
   "cell_type": "code",
   "execution_count": 34,
   "metadata": {},
   "outputs": [
    {
     "data": {
      "text/plain": [
       "SVC(kernel='linear', random_state=0)"
      ]
     },
     "execution_count": 34,
     "metadata": {},
     "output_type": "execute_result"
    }
   ],
   "source": [
    "# Training the Support Vector Machine model on the Training set\n",
    "from sklearn.svm import SVC\n",
    "classifier_SVM = SVC(kernel = 'linear', random_state = 0)\n",
    "classifier_SVM.fit(X_train[:10000], y_train[:10000])"
   ]
  },
  {
   "cell_type": "code",
   "execution_count": 35,
   "metadata": {},
   "outputs": [
    {
     "name": "stdout",
     "output_type": "stream",
     "text": [
      "[2 2 2 ... 2 2 2]\n"
     ]
    }
   ],
   "source": [
    "# Predicting the Test set results\n",
    "y_pred_SVM = classifier_SVM.predict(X_test)\n",
    "print(y_pred_SVM)"
   ]
  },
  {
   "cell_type": "code",
   "execution_count": 36,
   "metadata": {},
   "outputs": [
    {
     "name": "stdout",
     "output_type": "stream",
     "text": [
      "Confusion Matrix : \n",
      "[[    0  1163     0     0]\n",
      " [    0 98109     0     0]\n",
      " [    0 34630     0     0]\n",
      " [    0  1301     0     0]]\n",
      "\n",
      "Support Vector Classifier- Accuracy Score :  0.7256421824959506\n"
     ]
    }
   ],
   "source": [
    "# Making the Confusion Matrix\n",
    "cm_SVM = confusion_matrix(y_test, y_pred_SVM)\n",
    "print('Confusion Matrix : ')\n",
    "print(cm_SVM)\n",
    "print()\n",
    "# Get R2 measure (indicator of accuracy 1 is perfect, 0 is horrible)\n",
    "acc_SVM = accuracy_score(y_test, y_pred_SVM)\n",
    "print('Support Vector Classifier- Accuracy Score : ', acc_SVM)\n",
    "# Append to the accuracy list\n",
    "accuracy_list.append(acc_SVM)"
   ]
  },
  {
   "cell_type": "code",
   "execution_count": 37,
   "metadata": {},
   "outputs": [
    {
     "name": "stdout",
     "output_type": "stream",
     "text": [
      "Support Vector Classifier- Mean Squared Error: 0.3032255201437838\n"
     ]
    }
   ],
   "source": [
    "# Mean Squared Error\n",
    "mse_SVM = metrics.mean_squared_error(y_test, y_pred_SVM)\n",
    "print('Support Vector Classifier- Mean Squared Error:', mse_SVM)\n",
    "# Append to the MeanSquaredError list\n",
    "MeanSquaredError_list.append(mse_SVM)"
   ]
  },
  {
   "cell_type": "code",
   "execution_count": null,
   "metadata": {},
   "outputs": [],
   "source": []
  },
  {
   "cell_type": "markdown",
   "metadata": {},
   "source": [
    "# Naive Bayes Classification"
   ]
  },
  {
   "cell_type": "code",
   "execution_count": 38,
   "metadata": {},
   "outputs": [
    {
     "data": {
      "text/plain": [
       "GaussianNB()"
      ]
     },
     "execution_count": 38,
     "metadata": {},
     "output_type": "execute_result"
    }
   ],
   "source": [
    "# Training the Naive Bayes model on the Training set\n",
    "from sklearn.naive_bayes import GaussianNB\n",
    "classifier_NB = GaussianNB()\n",
    "classifier_NB.fit(X_train, y_train)"
   ]
  },
  {
   "cell_type": "code",
   "execution_count": 39,
   "metadata": {},
   "outputs": [
    {
     "name": "stdout",
     "output_type": "stream",
     "text": [
      "[2 3 3 ... 3 1 3]\n"
     ]
    }
   ],
   "source": [
    "# Predicting the Test set results\n",
    "y_pred_NB = classifier_NB.predict(X_test)\n",
    "# print y_pred\n",
    "print(y_pred_NB)"
   ]
  },
  {
   "cell_type": "code",
   "execution_count": 40,
   "metadata": {},
   "outputs": [
    {
     "name": "stdout",
     "output_type": "stream",
     "text": [
      "Confusion Matrix : \n",
      "[[  683   179   296     5]\n",
      " [ 8170 29137 59745  1057]\n",
      " [  814  3066 30591   159]\n",
      " [  126   451   702    22]]\n",
      "\n",
      "Naive Bayes Classifier- Accuracy Score :  0.44697972678121045\n"
     ]
    }
   ],
   "source": [
    "# Making the Confusion Matrix\n",
    "cm_NB = confusion_matrix(y_test, y_pred_NB)\n",
    "print('Confusion Matrix : ')\n",
    "print(cm_NB)\n",
    "print()\n",
    "# Get R2 measure (indicator of accuracy 1 is perfect, 0 is horrible)\n",
    "acc_NB = accuracy_score(y_test, y_pred_NB)\n",
    "print('Naive Bayes Classifier- Accuracy Score : ', acc_NB)\n",
    "# Append to the accuracy list\n",
    "accuracy_list.append(acc_NB)"
   ]
  },
  {
   "cell_type": "code",
   "execution_count": 41,
   "metadata": {},
   "outputs": [
    {
     "name": "stdout",
     "output_type": "stream",
     "text": [
      "Naive Bayes Classifier- Mean Squared Error: 0.6188620074998336\n"
     ]
    }
   ],
   "source": [
    "# Mean Squared Error\n",
    "mse_NB = metrics.mean_squared_error(y_test, y_pred_NB)\n",
    "print('Naive Bayes Classifier- Mean Squared Error:', mse_NB)\n",
    "# Append to the MeanSquaredError list\n",
    "MeanSquaredError_list.append(mse_NB)"
   ]
  },
  {
   "cell_type": "code",
   "execution_count": null,
   "metadata": {},
   "outputs": [],
   "source": []
  },
  {
   "cell_type": "markdown",
   "metadata": {},
   "source": [
    "# Decision Tree Classification"
   ]
  },
  {
   "cell_type": "code",
   "execution_count": 42,
   "metadata": {},
   "outputs": [
    {
     "data": {
      "text/plain": [
       "DecisionTreeClassifier(criterion='entropy', random_state=0)"
      ]
     },
     "execution_count": 42,
     "metadata": {},
     "output_type": "execute_result"
    }
   ],
   "source": [
    "# Training the Decision Tree Classification model on the Training set\n",
    "from sklearn.tree import DecisionTreeClassifier\n",
    "classifier_DT = DecisionTreeClassifier(criterion = 'entropy', random_state = 0)\n",
    "classifier_DT.fit(X_train, y_train)"
   ]
  },
  {
   "cell_type": "code",
   "execution_count": 43,
   "metadata": {},
   "outputs": [
    {
     "name": "stdout",
     "output_type": "stream",
     "text": [
      "[2 2 3 ... 2 2 2]\n"
     ]
    }
   ],
   "source": [
    "# Predicting the Test set results\n",
    "y_pred_DT = classifier_DT.predict(X_test)\n",
    "print(y_pred_DT)"
   ]
  },
  {
   "cell_type": "code",
   "execution_count": 44,
   "metadata": {},
   "outputs": [
    {
     "name": "stdout",
     "output_type": "stream",
     "text": [
      "Confusion Matrix : \n",
      "[[  769   341    42    11]\n",
      " [  474 86837 10049   749]\n",
      " [   69  9733 24526   302]\n",
      " [   20   580   264   437]]\n",
      "\n",
      "Decision Tree Classifier- Accuracy Score :  0.8325924720605312\n"
     ]
    }
   ],
   "source": [
    "# Making the Confusion Matrix\n",
    "cm_DT = confusion_matrix(y_test, y_pred_DT)\n",
    "print('Confusion Matrix : ')\n",
    "print(cm_DT)\n",
    "print()\n",
    "# Get R2 measure (indicator of accuracy 1 is perfect, 0 is horrible)\n",
    "acc_DT = accuracy_score(y_test, y_pred_DT)\n",
    "print('Decision Tree Classifier- Accuracy Score : ', acc_DT)\n",
    "# Append to the accuracy list\n",
    "accuracy_list.append(acc_DT)"
   ]
  },
  {
   "cell_type": "code",
   "execution_count": 45,
   "metadata": {},
   "outputs": [
    {
     "name": "stdout",
     "output_type": "stream",
     "text": [
      "Decision Tree Classifier- Mean Squared Error: 0.20119376049348017\n"
     ]
    }
   ],
   "source": [
    "# Mean Squared Error\n",
    "mse_DT = metrics.mean_squared_error(y_test, y_pred_DT)\n",
    "print('Decision Tree Classifier- Mean Squared Error:', mse_DT)\n",
    "# Append to the MeanSquaredError list\n",
    "MeanSquaredError_list.append(mse_DT)"
   ]
  },
  {
   "cell_type": "code",
   "execution_count": null,
   "metadata": {},
   "outputs": [],
   "source": []
  },
  {
   "cell_type": "markdown",
   "metadata": {},
   "source": [
    "# Random Forest Classification"
   ]
  },
  {
   "cell_type": "code",
   "execution_count": 46,
   "metadata": {},
   "outputs": [
    {
     "data": {
      "text/plain": [
       "RandomForestClassifier(criterion='entropy', n_estimators=10, random_state=0)"
      ]
     },
     "execution_count": 46,
     "metadata": {},
     "output_type": "execute_result"
    }
   ],
   "source": [
    "# Training the Random Forest Classification model on the Training set\n",
    "from sklearn.ensemble import RandomForestClassifier\n",
    "classifier_RF = RandomForestClassifier(n_estimators = 10, criterion = 'entropy', random_state = 0)\n",
    "classifier_RF.fit(X_train, y_train)"
   ]
  },
  {
   "cell_type": "code",
   "execution_count": 47,
   "metadata": {},
   "outputs": [
    {
     "name": "stdout",
     "output_type": "stream",
     "text": [
      "[2 2 3 ... 2 2 2]\n"
     ]
    }
   ],
   "source": [
    "# Predicting the Test set results\n",
    "y_pred_RF = classifier_RF.predict(X_test)\n",
    "print(y_pred_RF)"
   ]
  },
  {
   "cell_type": "code",
   "execution_count": 48,
   "metadata": {},
   "outputs": [
    {
     "name": "stdout",
     "output_type": "stream",
     "text": [
      "Confusion Matrix : \n",
      "[[  735   410    15     3]\n",
      " [  216 91220  6625    48]\n",
      " [   43 11070 23473    44]\n",
      " [    6   789   201   305]]\n",
      "\n",
      "Random Forest Classifier- Accuracy Score :  0.8559943196526705\n"
     ]
    }
   ],
   "source": [
    "# Making the Confusion Matrix\n",
    "cm_RF = confusion_matrix(y_test, y_pred_RF)\n",
    "print('Confusion Matrix : ')\n",
    "print(cm_RF)\n",
    "print()\n",
    "# Get R2 measure (indicator of accuracy 1 is perfect, 0 is horrible)\n",
    "acc_RF = accuracy_score(y_test, y_pred_RF)\n",
    "print('Random Forest Classifier- Accuracy Score : ', acc_RF)\n",
    "# Append to the accuracy list\n",
    "accuracy_list.append(acc_RF)"
   ]
  },
  {
   "cell_type": "code",
   "execution_count": 49,
   "metadata": {},
   "outputs": [
    {
     "name": "stdout",
     "output_type": "stream",
     "text": [
      "Random Forest Classifier- Mean Squared Error: 0.16439723970621953\n"
     ]
    }
   ],
   "source": [
    "# Mean Squared Error\n",
    "mse_RF = metrics.mean_squared_error(y_test, y_pred_RF)\n",
    "print('Random Forest Classifier- Mean Squared Error:', mse_RF)\n",
    "# Append to the MeanSquaredError list\n",
    "MeanSquaredError_list.append(mse_RF)"
   ]
  },
  {
   "cell_type": "code",
   "execution_count": null,
   "metadata": {},
   "outputs": [],
   "source": []
  },
  {
   "cell_type": "markdown",
   "metadata": {},
   "source": [
    "# Result"
   ]
  },
  {
   "cell_type": "code",
   "execution_count": 50,
   "metadata": {},
   "outputs": [
    {
     "name": "stdout",
     "output_type": "stream",
     "text": [
      "[0.7354940348956754, 0.7826897332159789, 0.7256421824959506, 0.44697972678121045, 0.8325924720605312, 0.8559943196526705]\n"
     ]
    }
   ],
   "source": [
    "# Accuracy List of all the Models\n",
    "print(accuracy_list)"
   ]
  },
  {
   "cell_type": "code",
   "execution_count": null,
   "metadata": {},
   "outputs": [],
   "source": []
  },
  {
   "cell_type": "code",
   "execution_count": null,
   "metadata": {},
   "outputs": [],
   "source": []
  }
 ],
 "metadata": {
  "kernelspec": {
   "display_name": "Python 3",
   "language": "python",
   "name": "python3"
  },
  "language_info": {
   "codemirror_mode": {
    "name": "ipython",
    "version": 3
   },
   "file_extension": ".py",
   "mimetype": "text/x-python",
   "name": "python",
   "nbconvert_exporter": "python",
   "pygments_lexer": "ipython3",
   "version": "3.8.3"
  }
 },
 "nbformat": 4,
 "nbformat_minor": 4
}
